{
 "cells": [
  {
   "cell_type": "code",
   "execution_count": 47,
   "metadata": {},
   "outputs": [],
   "source": [
    "import cv2\n",
    "import tkinter as tk\n",
    "import tkinter.filedialog as tkfd\n",
    "import os\n",
    "import numpy as np\n",
    "import tensorflow as tf\n",
    "import pandas as pd\n",
    "import matplotlib.pyplot as plt\n",
    "from sklearn.metrics import classification_report\n",
    "from sklearn.preprocessing import LabelEncoder\n",
    "from sklearn.metrics import accuracy_score\n",
    "from keras.utils import np_utils\n",
    "from keras.models import Sequential\n",
    "from keras.layers import  Flatten, Dense, Activation,Convolution2D,MaxPooling2D\n",
    "from sklearn.model_selection import train_test_split\n",
    "from tensorflow.keras.optimizers import Adam\n",
    "from keras.callbacks import EarlyStopping\n",
    "from keras import backend as K\n",
    "import random\n",
    "%matplotlib inline"
   ]
  },
  {
   "cell_type": "code",
   "execution_count": 48,
   "metadata": {},
   "outputs": [],
   "source": [
    "def load_images(folder):\n",
    "        image_list=[]\n",
    "        for filename in os.listdir(folder):\n",
    "            img=cv2.imread(os.path.join(folder,filename))\n",
    "            if img is not None:\n",
    "                image_list.append(img)\n",
    "        return image_list"
   ]
  },
  {
   "cell_type": "code",
   "execution_count": 49,
   "metadata": {},
   "outputs": [],
   "source": [
    "X_Train=load_images(\"Image-Data\\Training Images\")\n",
    "X_Train=np.array(X_Train)"
   ]
  },
  {
   "cell_type": "code",
   "execution_count": 50,
   "metadata": {},
   "outputs": [],
   "source": [
    "X_Test=load_images(\"Image-Data\\Testing Images\")\n",
    "X_Test=np.array(X_Test)"
   ]
  },
  {
   "cell_type": "code",
   "execution_count": 51,
   "metadata": {},
   "outputs": [],
   "source": [
    "X_Validation=load_images(\"Image-Data\\Validation Images\")\n",
    "X_Validation=np.array(X_Validation)"
   ]
  },
  {
   "cell_type": "code",
   "execution_count": 52,
   "metadata": {},
   "outputs": [],
   "source": [
    "data_Train=pd.read_csv(\"ISIC-2017_Training_Part3_GroundTruth.csv\")\n",
    "data_Test=pd.read_csv(\"ISIC-2017_Test_v2_Part3_GroundTruth.csv\")\n",
    "data_Validation=pd.read_csv(\"ISIC-2017_Validation_Part3_GroundTruth.csv\")"
   ]
  },
  {
   "cell_type": "code",
   "execution_count": 53,
   "metadata": {},
   "outputs": [],
   "source": [
    "data_Train=data_Train.iloc[0:2000,1]\n",
    "data_Test=data_Test.iloc[0:600,1]\n",
    "data_Validation=data_Validation.iloc[0:300,1]\n",
    "\n",
    "y_Train=data_Train\n",
    "y_Test=data_Test\n",
    "y_Validation=data_Validation\n",
    "\n",
    "y_Train=np.array(y_Train)\n",
    "y_Test=np.array(y_Test)\n",
    "y_Validation=np.array(y_Validation)"
   ]
  },
  {
   "cell_type": "code",
   "execution_count": 54,
   "metadata": {},
   "outputs": [],
   "source": [
    "y_Train = np_utils.to_categorical(data_Train)\n",
    "y_Test = np_utils.to_categorical(data_Test)\n",
    "y_Validation = np_utils.to_categorical(data_Validation)"
   ]
  },
  {
   "cell_type": "code",
   "execution_count": 55,
   "metadata": {},
   "outputs": [],
   "source": [
    "# Convolutional Neural Network with 6 layers\n",
    "Optimizer=Adam(learning_rate=0.001)\n",
    "objective='binary_crossentropy'\n",
    "def center_normalize(x):\n",
    "    return (x-K.mean(x))/K.std(x)\n",
    "model=Sequential()\n",
    "#input layer\n",
    "model.add(Activation(activation=center_normalize, input_shape=(64, 64,3)))\n",
    "# convolutional layer\n",
    "model.add(Convolution2D(32,5,5,padding='same',activation='relu',data_format='channels_last'))\n",
    "#pooling layer\n",
    "model.add(MaxPooling2D(pool_size=(2,2),data_format='channels_last'))\n",
    "# convolutional layer\n",
    "model.add(Convolution2D(64,3,3,padding='same',activation='relu',data_format='channels_last'))\n",
    "# pooling layer\n",
    "model.add(MaxPooling2D(pool_size=(2,2),data_format='channels_last'))\n",
    "model.add(Flatten())\n",
    "# Relu \n",
    "model.add(Dense(128, activation='relu'))\n",
    "# Sigmoid Fully connected layer\n",
    "model.add(Dense(y_Train.shape[1]))\n",
    "model.add(Activation('sigmoid'))\n",
    "model.compile(loss=objective,optimizer=Optimizer,metrics=['accuracy'])"
   ]
  },
  {
   "cell_type": "code",
   "execution_count": 56,
   "metadata": {},
   "outputs": [
    {
     "name": "stdout",
     "output_type": "stream",
     "text": [
      "Epoch 1/15\n",
      "10/10 [==============================] - 1s 23ms/step - loss: 0.5909 - accuracy: 0.7200\n",
      "Epoch 2/15\n",
      "10/10 [==============================] - 0s 7ms/step - loss: 0.5200 - accuracy: 0.8130\n",
      "Epoch 3/15\n",
      "10/10 [==============================] - 0s 7ms/step - loss: 0.5038 - accuracy: 0.8130\n",
      "Epoch 4/15\n",
      "10/10 [==============================] - 0s 6ms/step - loss: 0.4984 - accuracy: 0.8130\n",
      "Epoch 5/15\n",
      "10/10 [==============================] - 0s 6ms/step - loss: 0.4913 - accuracy: 0.8130\n",
      "Epoch 6/15\n",
      "10/10 [==============================] - 0s 6ms/step - loss: 0.4866 - accuracy: 0.8130\n",
      "Epoch 7/15\n",
      "10/10 [==============================] - 0s 6ms/step - loss: 0.4786 - accuracy: 0.8130\n",
      "Epoch 8/15\n",
      "10/10 [==============================] - 0s 6ms/step - loss: 0.4722 - accuracy: 0.8130\n",
      "Epoch 9/15\n",
      "10/10 [==============================] - 0s 6ms/step - loss: 0.4647 - accuracy: 0.8130\n",
      "Epoch 10/15\n",
      "10/10 [==============================] - 0s 7ms/step - loss: 0.4600 - accuracy: 0.8130\n",
      "Epoch 11/15\n",
      "10/10 [==============================] - 0s 7ms/step - loss: 0.4543 - accuracy: 0.8130\n",
      "Epoch 12/15\n",
      "10/10 [==============================] - 0s 7ms/step - loss: 0.4493 - accuracy: 0.8130\n",
      "Epoch 13/15\n",
      "10/10 [==============================] - 0s 7ms/step - loss: 0.4425 - accuracy: 0.8130\n",
      "Epoch 14/15\n",
      "10/10 [==============================] - 0s 7ms/step - loss: 0.4348 - accuracy: 0.8140\n",
      "Epoch 15/15\n",
      "10/10 [==============================] - 0s 6ms/step - loss: 0.4264 - accuracy: 0.8150\n"
     ]
    },
    {
     "data": {
      "text/plain": [
       "<keras.callbacks.History at 0x13f2c2fe6a0>"
      ]
     },
     "execution_count": 56,
     "metadata": {},
     "output_type": "execute_result"
    }
   ],
   "source": [
    "random.seed(250)\n",
    "model.fit(X_Train,y_Train,batch_size=200,epochs=15,verbose=1)"
   ]
  },
  {
   "cell_type": "code",
   "execution_count": 57,
   "metadata": {},
   "outputs": [
    {
     "name": "stdout",
     "output_type": "stream",
     "text": [
      "19/19 [==============================] - 0s 3ms/step - loss: 0.5120 - accuracy: 0.8050\n",
      "\n",
      "accuracy: 80.50%\n"
     ]
    }
   ],
   "source": [
    "scores = model.evaluate(X_Test,y_Test)\n",
    "print(\"\\n%s: %.2f%%\" % (model.metrics_names[1],scores[1]*100))"
   ]
  },
  {
   "cell_type": "code",
   "execution_count": 70,
   "metadata": {},
   "outputs": [],
   "source": [
    "predict_x=model.predict(X_Test) \n",
    "classes_x=np.argmax(predict_x,axis=1)"
   ]
  },
  {
   "cell_type": "code",
   "execution_count": 71,
   "metadata": {},
   "outputs": [
    {
     "ename": "ValueError",
     "evalue": "Classification metrics can't handle a mix of unknown and binary targets",
     "output_type": "error",
     "traceback": [
      "\u001b[1;31m---------------------------------------------------------------------------\u001b[0m",
      "\u001b[1;31mValueError\u001b[0m                                Traceback (most recent call last)",
      "\u001b[1;32m<ipython-input-71-953df1e173c2>\u001b[0m in \u001b[0;36m<module>\u001b[1;34m\u001b[0m\n\u001b[1;32m----> 1\u001b[1;33m \u001b[0mprint\u001b[0m\u001b[1;33m(\u001b[0m\u001b[0mclassification_report\u001b[0m\u001b[1;33m(\u001b[0m\u001b[0mX_Test\u001b[0m\u001b[1;33m,\u001b[0m\u001b[0mclasses_x\u001b[0m\u001b[1;33m)\u001b[0m\u001b[1;33m)\u001b[0m\u001b[1;33m\u001b[0m\u001b[1;33m\u001b[0m\u001b[0m\n\u001b[0m",
      "\u001b[1;32mC:\\ProgramData\\Anaconda3\\lib\\site-packages\\sklearn\\metrics\\_classification.py\u001b[0m in \u001b[0;36mclassification_report\u001b[1;34m(y_true, y_pred, labels, target_names, sample_weight, digits, output_dict, zero_division)\u001b[0m\n\u001b[0;32m   2074\u001b[0m     \"\"\"\n\u001b[0;32m   2075\u001b[0m \u001b[1;33m\u001b[0m\u001b[0m\n\u001b[1;32m-> 2076\u001b[1;33m     \u001b[0my_type\u001b[0m\u001b[1;33m,\u001b[0m \u001b[0my_true\u001b[0m\u001b[1;33m,\u001b[0m \u001b[0my_pred\u001b[0m \u001b[1;33m=\u001b[0m \u001b[0m_check_targets\u001b[0m\u001b[1;33m(\u001b[0m\u001b[0my_true\u001b[0m\u001b[1;33m,\u001b[0m \u001b[0my_pred\u001b[0m\u001b[1;33m)\u001b[0m\u001b[1;33m\u001b[0m\u001b[1;33m\u001b[0m\u001b[0m\n\u001b[0m\u001b[0;32m   2077\u001b[0m \u001b[1;33m\u001b[0m\u001b[0m\n\u001b[0;32m   2078\u001b[0m     \u001b[1;32mif\u001b[0m \u001b[0mlabels\u001b[0m \u001b[1;32mis\u001b[0m \u001b[1;32mNone\u001b[0m\u001b[1;33m:\u001b[0m\u001b[1;33m\u001b[0m\u001b[1;33m\u001b[0m\u001b[0m\n",
      "\u001b[1;32mC:\\ProgramData\\Anaconda3\\lib\\site-packages\\sklearn\\metrics\\_classification.py\u001b[0m in \u001b[0;36m_check_targets\u001b[1;34m(y_true, y_pred)\u001b[0m\n\u001b[0;32m     93\u001b[0m         raise ValueError(\n\u001b[0;32m     94\u001b[0m             \"Classification metrics can't handle a mix of {0} and {1} targets\".format(\n\u001b[1;32m---> 95\u001b[1;33m                 \u001b[0mtype_true\u001b[0m\u001b[1;33m,\u001b[0m \u001b[0mtype_pred\u001b[0m\u001b[1;33m\u001b[0m\u001b[1;33m\u001b[0m\u001b[0m\n\u001b[0m\u001b[0;32m     96\u001b[0m             )\n\u001b[0;32m     97\u001b[0m         )\n",
      "\u001b[1;31mValueError\u001b[0m: Classification metrics can't handle a mix of unknown and binary targets"
     ]
    }
   ],
   "source": [
    "print(classification_report(X_Test,classes_x))"
   ]
  },
  {
   "cell_type": "code",
   "execution_count": null,
   "metadata": {},
   "outputs": [],
   "source": []
  }
 ],
 "metadata": {
  "kernelspec": {
   "display_name": "Python 3",
   "language": "python",
   "name": "python3"
  },
  "language_info": {
   "codemirror_mode": {
    "name": "ipython",
    "version": 3
   },
   "file_extension": ".py",
   "mimetype": "text/x-python",
   "name": "python",
   "nbconvert_exporter": "python",
   "pygments_lexer": "ipython3",
   "version": "3.7.3"
  }
 },
 "nbformat": 4,
 "nbformat_minor": 2
}
