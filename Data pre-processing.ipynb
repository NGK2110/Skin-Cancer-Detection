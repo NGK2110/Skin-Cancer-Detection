{
 "cells": [
  {
   "cell_type": "code",
   "execution_count": 1,
   "metadata": {},
   "outputs": [],
   "source": [
    "import tkinter as tk\n",
    "import tkinter.filedialog as tkfd\n",
    "import cv2\n",
    "import os\n",
    "import matplotlib.pyplot as plt\n",
    "import numpy as np\n",
    "%matplotlib inline"
   ]
  },
  {
   "cell_type": "code",
   "execution_count": null,
   "metadata": {},
   "outputs": [],
   "source": [
    "tk.Tk().withdraw()\n",
    "path=tkfd.askdirectory()"
   ]
  },
  {
   "cell_type": "code",
   "execution_count": 3,
   "metadata": {
    "collapsed": true
   },
   "outputs": [],
   "source": [
    "def load_images(folder):\n",
    "        image_list=[]\n",
    "        for filename in os.listdir(folder):\n",
    "            img=cv2.imread(os.path.join(folder,filename))\n",
    "            if img is not None:\n",
    "                image_list.append(img)\n",
    "        return image_list"
   ]
  },
  {
   "cell_type": "code",
   "execution_count": 21,
   "metadata": {
    "collapsed": true
   },
   "outputs": [],
   "source": [
    "images=load_images(path)"
   ]
  },
  {
   "cell_type": "code",
   "execution_count": 10,
   "metadata": {
    "collapsed": true
   },
   "outputs": [],
   "source": [
    "def resize_images(images):\n",
    "    resize_image=[]\n",
    "    for image in images:\n",
    "        imag=cv2.resize(image,(64,64))\n",
    "        resize_image.append(imag)\n",
    "    return resize_image"
   ]
  },
  {
   "cell_type": "code",
   "execution_count": 6,
   "metadata": {
    "collapsed": true
   },
   "outputs": [],
   "source": [
    "def mask(mask,RGBImages):\n",
    "    #R=RGBImage[:,:,2]\n",
    "    #G=RGBImage[:,:,1]\n",
    "    #B=RGBImage[:,:,0]\n",
    "    masked_Image=[]\n",
    "    for RGBImage in RGBImages:\n",
    "        B,G,R=cv2.split(RGBImage)\n",
    "        maskRed=np.multiply(R,mask)\n",
    "        maskGreen=np.multiply(G,mask)\n",
    "        maskBlue=np.multiply(B,mask)\n",
    "        maskedImage=cv2.merge([maskRed,maskGreen,maskBlue])\n",
    "        masked_Image.append(maskedImage)\n",
    "    return masked_Image"
   ]
  },
  {
   "cell_type": "code",
   "execution_count": 7,
   "metadata": {
    "collapsed": true
   },
   "outputs": [],
   "source": [
    "IGray=cv2.cvtColor(images[0],cv2.COLOR_BGR2GRAY)\n",
    "ret,BW=cv2.threshold(IGray,0,255,cv2.THRESH_BINARY+cv2.THRESH_OTSU)\n",
    "#ret1,thresh1 = cv2.threshold(th,127,255,cv2.THRESH_BINARY)\n",
    "ret2,thresh2 = cv2.threshold(BW,127,255,cv2.THRESH_BINARY_INV)"
   ]
  },
  {
   "cell_type": "code",
   "execution_count": 22,
   "metadata": {
    "collapsed": true
   },
   "outputs": [],
   "source": [
    "ResizedImages=resize_images(images)"
   ]
  },
  {
   "cell_type": "code",
   "execution_count": 23,
   "metadata": {
    "collapsed": true
   },
   "outputs": [],
   "source": [
    "ProcessedImages=mask(thresh2, ResizedImages)"
   ]
  },
  {
   "cell_type": "code",
   "execution_count": 24,
   "metadata": {
    "collapsed": true
   },
   "outputs": [],
   "source": [
    "os.chdir(path=tkfd.askdirectory())\n",
    "for i in range(1,len(ProcessedImages)+1):\n",
    "    cv2.imwrite(('imageprocessed_{}.jpg'.format(i)),ProcessedImages[i-1])"
   ]
  },
  {
   "cell_type": "code",
   "execution_count": 25,
   "metadata": {},
   "outputs": [
    {
     "data": {
      "text/plain": [
       "(64, 64, 3)"
      ]
     },
     "execution_count": 25,
     "metadata": {},
     "output_type": "execute_result"
    }
   ],
   "source": [
    "# Checking\n",
    "len(ProcessedImages)\n",
    "ResizedImages[0].shape"
   ]
  }
 ],
 "metadata": {
  "kernelspec": {
   "display_name": "Python 3",
   "language": "python",
   "name": "python3"
  },
  "language_info": {
   "codemirror_mode": {
    "name": "ipython",
    "version": 3
   },
   "file_extension": ".py",
   "mimetype": "text/x-python",
   "name": "python",
   "nbconvert_exporter": "python",
   "pygments_lexer": "ipython3",
   "version": "3.7.3"
  }
 },
 "nbformat": 4,
 "nbformat_minor": 2
}
