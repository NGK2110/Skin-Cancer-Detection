{
 "cells": [
  {
   "cell_type": "code",
   "execution_count": 1,
   "metadata": {},
   "outputs": [],
   "source": [
    "import cv2\n",
    "import tkinter as tk\n",
    "import tkinter.filedialog as tkfd\n",
    "import os\n",
    "import numpy as np\n",
    "import pandas as pd\n",
    "import matplotlib.pyplot as plt\n",
    "from keras.utils import np_utils\n",
    "from sklearn.metrics import classification_report\n",
    "from sklearn import svm\n",
    "from sklearn.ensemble import RandomForestClassifier\n",
    "from sklearn.ensemble import GradientBoostingClassifier\n",
    "from sklearn import tree\n",
    "import random\n",
    "%matplotlib inline\n",
    "\n",
    "def load_images(folder):\n",
    "        image_list=[]\n",
    "        for filename in os.listdir(folder):\n",
    "            img=cv2.imread(os.path.join(folder,filename))\n",
    "            if img is not None:\n",
    "                image_list.append(img)\n",
    "        return image_list"
   ]
  },
  {
   "cell_type": "code",
   "execution_count": 2,
   "metadata": {},
   "outputs": [],
   "source": [
    "X_Train=load_images(\"Image-Data\\Training Images\")\n",
    "X_Train=np.array(X_Train)"
   ]
  },
  {
   "cell_type": "code",
   "execution_count": 3,
   "metadata": {},
   "outputs": [],
   "source": [
    "X_Test=load_images(\"Image-Data\\Testing Images\")\n",
    "X_Test=np.array(X_Test)"
   ]
  },
  {
   "cell_type": "code",
   "execution_count": 4,
   "metadata": {},
   "outputs": [],
   "source": [
    "X_Validation=load_images(\"Image-Data\\Validation Images\")\n",
    "X_Validation=np.array(X_Validation)"
   ]
  },
  {
   "cell_type": "code",
   "execution_count": 5,
   "metadata": {},
   "outputs": [],
   "source": [
    "data_Train=pd.read_csv(\"ISIC-2017_Training_Part3_GroundTruth.csv\")\n",
    "data_Test=pd.read_csv(\"ISIC-2017_Test_v2_Part3_GroundTruth.csv\")\n",
    "data_Validation=pd.read_csv(\"ISIC-2017_Validation_Part3_GroundTruth.csv\")"
   ]
  },
  {
   "cell_type": "code",
   "execution_count": 6,
   "metadata": {},
   "outputs": [],
   "source": [
    "data_Train=data_Train.iloc[0:2000,1]\n",
    "data_Test=data_Test.iloc[0:600,1]\n",
    "data_Validation=data_Validation.iloc[0:300,1]\n",
    "\n",
    "y_Train=data_Train\n",
    "y_Test=data_Test\n",
    "y_Validation=data_Validation\n",
    "\n",
    "y_Train=np.array(y_Train)\n",
    "y_Test=np.array(y_Test)\n",
    "y_Validation=np.array(y_Validation)"
   ]
  },
  {
   "cell_type": "code",
   "execution_count": 7,
   "metadata": {},
   "outputs": [
    {
     "data": {
      "text/plain": [
       "'y_Train = np_utils.to_categorical(data_Train)\\ny_Test = np_utils.to_categorical(data_Test)\\ny_Validation = np_utils.to_categorical(data_Validation)'"
      ]
     },
     "execution_count": 7,
     "metadata": {},
     "output_type": "execute_result"
    }
   ],
   "source": [
    "'''y_Train = np_utils.to_categorical(data_Train)\n",
    "y_Test = np_utils.to_categorical(data_Test)\n",
    "y_Validation = np_utils.to_categorical(data_Validation)'''"
   ]
  },
  {
   "cell_type": "code",
   "execution_count": 8,
   "metadata": {},
   "outputs": [],
   "source": [
    "X_Train_2D = X_Train.reshape(2000,-1)\n",
    "X_Test_2D = X_Test.reshape(600,-1)\n",
    "X_Validation_2D = X_Validation.reshape(300,-1)"
   ]
  },
  {
   "cell_type": "code",
   "execution_count": 20,
   "metadata": {},
   "outputs": [
    {
     "name": "stdout",
     "output_type": "stream",
     "text": [
      "              precision    recall  f1-score   support\n",
      "\n",
      "         0.0       0.81      0.75      0.78       483\n",
      "         1.0       0.21      0.26      0.23       117\n",
      "\n",
      "    accuracy                           0.66       600\n",
      "   macro avg       0.51      0.51      0.51       600\n",
      "weighted avg       0.69      0.66      0.67       600\n",
      "\n"
     ]
    }
   ],
   "source": [
    "random.seed(200)\n",
    "modelTREE = tree.DecisionTreeClassifier(criterion='gini')\n",
    "modelTREE.fit(X_Train_2D, y_Train)\n",
    "predictedTREE= modelTREE.predict(X_Test_2D)\n",
    "print(classification_report(y_Test, predictedTREE))"
   ]
  },
  {
   "cell_type": "code",
   "execution_count": 21,
   "metadata": {},
   "outputs": [
    {
     "name": "stdout",
     "output_type": "stream",
     "text": [
      "              precision    recall  f1-score   support\n",
      "\n",
      "         0.0       0.82      0.81      0.81       483\n",
      "         1.0       0.25      0.26      0.26       117\n",
      "\n",
      "    accuracy                           0.70       600\n",
      "   macro avg       0.54      0.54      0.54       600\n",
      "weighted avg       0.71      0.70      0.71       600\n",
      "\n"
     ]
    }
   ],
   "source": [
    "random.seed(200)\n",
    "modelTREE = tree.DecisionTreeClassifier(criterion='entropy')\n",
    "modelTREE.fit(X_Train_2D, y_Train)\n",
    "predictedTREE= modelTREE.predict(X_Test_2D)\n",
    "print(classification_report(y_Test, predictedTREE))"
   ]
  },
  {
   "cell_type": "code",
   "execution_count": 22,
   "metadata": {},
   "outputs": [
    {
     "name": "stdout",
     "output_type": "stream",
     "text": [
      "              precision    recall  f1-score   support\n",
      "\n",
      "         0.0       0.81      0.96      0.88       483\n",
      "         1.0       0.32      0.08      0.12       117\n",
      "\n",
      "    accuracy                           0.79       600\n",
      "   macro avg       0.57      0.52      0.50       600\n",
      "weighted avg       0.72      0.79      0.73       600\n",
      "\n"
     ]
    }
   ],
   "source": [
    "random.seed(200)\n",
    "modelRF = RandomForestClassifier()\n",
    "modelRF.fit(X_Train_2D, y_Train)\n",
    "predictedRF = modelRF.predict(X_Test_2D)\n",
    "print(classification_report(y_Test, predictedRF))"
   ]
  },
  {
   "cell_type": "code",
   "execution_count": 9,
   "metadata": {},
   "outputs": [
    {
     "name": "stdout",
     "output_type": "stream",
     "text": [
      "              precision    recall  f1-score   support\n",
      "\n",
      "         0.0       0.81      1.00      0.89       483\n",
      "         1.0       0.00      0.00      0.00       117\n",
      "\n",
      "    accuracy                           0.81       600\n",
      "   macro avg       0.40      0.50      0.45       600\n",
      "weighted avg       0.65      0.81      0.72       600\n",
      "\n"
     ]
    },
    {
     "name": "stderr",
     "output_type": "stream",
     "text": [
      "C:\\ProgramData\\Anaconda3\\lib\\site-packages\\sklearn\\metrics\\_classification.py:1308: UndefinedMetricWarning: Precision and F-score are ill-defined and being set to 0.0 in labels with no predicted samples. Use `zero_division` parameter to control this behavior.\n",
      "  _warn_prf(average, modifier, msg_start, len(result))\n",
      "C:\\ProgramData\\Anaconda3\\lib\\site-packages\\sklearn\\metrics\\_classification.py:1308: UndefinedMetricWarning: Precision and F-score are ill-defined and being set to 0.0 in labels with no predicted samples. Use `zero_division` parameter to control this behavior.\n",
      "  _warn_prf(average, modifier, msg_start, len(result))\n",
      "C:\\ProgramData\\Anaconda3\\lib\\site-packages\\sklearn\\metrics\\_classification.py:1308: UndefinedMetricWarning: Precision and F-score are ill-defined and being set to 0.0 in labels with no predicted samples. Use `zero_division` parameter to control this behavior.\n",
      "  _warn_prf(average, modifier, msg_start, len(result))\n"
     ]
    }
   ],
   "source": [
    "random.seed(200)\n",
    "modelSVM = svm.SVC()\n",
    "modelSVM.fit(X_Train_2D, y_Train)\n",
    "predictedSVM = modelSVM.predict(X_Test_2D)\n",
    "print(classification_report(y_Test, predictedSVM))"
   ]
  },
  {
   "cell_type": "code",
   "execution_count": 10,
   "metadata": {},
   "outputs": [
    {
     "name": "stdout",
     "output_type": "stream",
     "text": [
      "              precision    recall  f1-score   support\n",
      "\n",
      "         0.0       0.82      0.88      0.85       483\n",
      "         1.0       0.31      0.21      0.25       117\n",
      "\n",
      "    accuracy                           0.75       600\n",
      "   macro avg       0.57      0.55      0.55       600\n",
      "weighted avg       0.72      0.75      0.74       600\n",
      "\n"
     ]
    }
   ],
   "source": [
    "random.seed(200)\n",
    "modelGBM = GradientBoostingClassifier(n_estimators=500, learning_rate=1, max_depth=3, random_state=0)\n",
    "modelGBM.fit(X_Train_2D, y_Train)\n",
    "predictedGBM = modelGBM.predict(X_Test_2D)\n",
    "print(classification_report(y_Test, predictedGBM))"
   ]
  },
  {
   "cell_type": "code",
   "execution_count": null,
   "metadata": {},
   "outputs": [],
   "source": []
  }
 ],
 "metadata": {
  "kernelspec": {
   "display_name": "Python 3",
   "language": "python",
   "name": "python3"
  },
  "language_info": {
   "codemirror_mode": {
    "name": "ipython",
    "version": 3
   },
   "file_extension": ".py",
   "mimetype": "text/x-python",
   "name": "python",
   "nbconvert_exporter": "python",
   "pygments_lexer": "ipython3",
   "version": "3.7.3"
  }
 },
 "nbformat": 4,
 "nbformat_minor": 2
}
